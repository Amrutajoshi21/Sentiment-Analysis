{
 "cells": [
  {
   "cell_type": "markdown",
   "id": "ff76e6f9-d945-4656-a68c-5b4bb7a24ff8",
   "metadata": {},
   "source": [
    "## sentiment analysis of trip review dataset"
   ]
  },
  {
   "cell_type": "code",
   "execution_count": 3,
   "id": "8465cd62-6a2c-420c-a8ae-799584b35526",
   "metadata": {},
   "outputs": [],
   "source": [
    "from textblob import TextBlob"
   ]
  },
  {
   "cell_type": "code",
   "execution_count": 11,
   "id": "75c50dab-a1f2-4624-88bc-fb1a7543e1fe",
   "metadata": {},
   "outputs": [],
   "source": [
    "import pandas as pd"
   ]
  },
  {
   "cell_type": "code",
   "execution_count": 12,
   "id": "18c74e7b-55f8-4085-889f-7d91df810ea0",
   "metadata": {},
   "outputs": [
    {
     "data": {
      "text/html": [
       "<div>\n",
       "<style scoped>\n",
       "    .dataframe tbody tr th:only-of-type {\n",
       "        vertical-align: middle;\n",
       "    }\n",
       "\n",
       "    .dataframe tbody tr th {\n",
       "        vertical-align: top;\n",
       "    }\n",
       "\n",
       "    .dataframe thead th {\n",
       "        text-align: right;\n",
       "    }\n",
       "</style>\n",
       "<table border=\"1\" class=\"dataframe\">\n",
       "  <thead>\n",
       "    <tr style=\"text-align: right;\">\n",
       "      <th></th>\n",
       "      <th>Review</th>\n",
       "      <th>Rating</th>\n",
       "    </tr>\n",
       "  </thead>\n",
       "  <tbody>\n",
       "    <tr>\n",
       "      <th>0</th>\n",
       "      <td>nice hotel expensive parking got good deal sta...</td>\n",
       "      <td>4</td>\n",
       "    </tr>\n",
       "    <tr>\n",
       "      <th>1</th>\n",
       "      <td>ok nothing special charge diamond member hilto...</td>\n",
       "      <td>2</td>\n",
       "    </tr>\n",
       "    <tr>\n",
       "      <th>2</th>\n",
       "      <td>nice rooms not 4* experience hotel monaco seat...</td>\n",
       "      <td>3</td>\n",
       "    </tr>\n",
       "    <tr>\n",
       "      <th>3</th>\n",
       "      <td>unique, great stay, wonderful time hotel monac...</td>\n",
       "      <td>5</td>\n",
       "    </tr>\n",
       "    <tr>\n",
       "      <th>4</th>\n",
       "      <td>great stay great stay, went seahawk game aweso...</td>\n",
       "      <td>5</td>\n",
       "    </tr>\n",
       "  </tbody>\n",
       "</table>\n",
       "</div>"
      ],
      "text/plain": [
       "                                              Review  Rating\n",
       "0  nice hotel expensive parking got good deal sta...       4\n",
       "1  ok nothing special charge diamond member hilto...       2\n",
       "2  nice rooms not 4* experience hotel monaco seat...       3\n",
       "3  unique, great stay, wonderful time hotel monac...       5\n",
       "4  great stay great stay, went seahawk game aweso...       5"
      ]
     },
     "execution_count": 12,
     "metadata": {},
     "output_type": "execute_result"
    }
   ],
   "source": [
    "trip = pd.read_csv(r\"C:\\5 Machine Learning\\DL\\Trip_advisor_review.csv\")\n",
    "trip.head()"
   ]
  },
  {
   "cell_type": "code",
   "execution_count": 13,
   "id": "e5ba9117-0a41-486d-86e5-5a09876a68cd",
   "metadata": {},
   "outputs": [
    {
     "data": {
      "text/plain": [
       "(20491, 2)"
      ]
     },
     "execution_count": 13,
     "metadata": {},
     "output_type": "execute_result"
    }
   ],
   "source": [
    "trip.shape"
   ]
  },
  {
   "cell_type": "code",
   "execution_count": 14,
   "id": "208c955b-a105-4fde-9a7b-c6c977b7a2bc",
   "metadata": {},
   "outputs": [
    {
     "data": {
      "text/plain": [
       "'nice hotel expensive parking got good deal stay hotel anniversary, arrived late evening took advice previous reviews did valet parking, check quick easy, little disappointed non-existent view room room clean nice size, bed comfortable woke stiff neck high pillows, not soundproof like heard music room night morning loud bangs doors opening closing hear people talking hallway, maybe just noisy neighbors, aveda bath products nice, did not goldfish stay nice touch taken advantage staying longer, location great walking distance shopping, overall nice experience having pay 40 parking night,  '"
      ]
     },
     "execution_count": 14,
     "metadata": {},
     "output_type": "execute_result"
    }
   ],
   "source": [
    "trip.iloc[0][0]"
   ]
  },
  {
   "cell_type": "code",
   "execution_count": 15,
   "id": "a8ec041e-d530-4203-aaa0-d8b996c7efc8",
   "metadata": {},
   "outputs": [],
   "source": [
    "tb = TextBlob(trip.iloc[0][0])"
   ]
  },
  {
   "cell_type": "code",
   "execution_count": 16,
   "id": "7e471283-906d-4e1b-aa27-78a7595d6a12",
   "metadata": {},
   "outputs": [
    {
     "data": {
      "text/plain": [
       "Sentiment(polarity=0.20874404761904758, subjectivity=0.687)"
      ]
     },
     "execution_count": 16,
     "metadata": {},
     "output_type": "execute_result"
    }
   ],
   "source": [
    "tb.sentiment"
   ]
  },
  {
   "cell_type": "code",
   "execution_count": 17,
   "id": "66612780-247b-4a0e-82ab-aeb334c8599a",
   "metadata": {},
   "outputs": [
    {
     "data": {
      "text/plain": [
       "0.20874404761904758"
      ]
     },
     "execution_count": 17,
     "metadata": {},
     "output_type": "execute_result"
    }
   ],
   "source": [
    "tb.sentiment[0]                       # for only polarity"
   ]
  },
  {
   "cell_type": "code",
   "execution_count": 18,
   "id": "7d312517-7aa1-4f18-9b0d-d62b2af5a143",
   "metadata": {},
   "outputs": [],
   "source": [
    "senti_list = []\n",
    "for i in range(0, trip.shape[0]):                 # from 1st to last record\n",
    "    tb = TextBlob(trip.iloc[i][0])                # i for rows o for column i.e. review\n",
    "    polarity_score = tb.sentiment[0]              # 0 for polarity only\n",
    "    senti_list.append(polarity_score)"
   ]
  },
  {
   "cell_type": "code",
   "execution_count": 19,
   "id": "aa3c0db7-b6e3-4e6a-850b-b8b1c844946f",
   "metadata": {},
   "outputs": [
    {
     "data": {
      "text/plain": [
       "20491"
      ]
     },
     "execution_count": 19,
     "metadata": {},
     "output_type": "execute_result"
    }
   ],
   "source": [
    "len(senti_list)"
   ]
  },
  {
   "cell_type": "code",
   "execution_count": 20,
   "id": "1ab4d172-4270-4b5c-9076-09b33c479f13",
   "metadata": {},
   "outputs": [],
   "source": [
    "trip['sentiment_score']=senti_list"
   ]
  },
  {
   "cell_type": "code",
   "execution_count": 21,
   "id": "2a9bf436-d253-42af-83f2-e67291c573cb",
   "metadata": {},
   "outputs": [
    {
     "data": {
      "text/html": [
       "<div>\n",
       "<style scoped>\n",
       "    .dataframe tbody tr th:only-of-type {\n",
       "        vertical-align: middle;\n",
       "    }\n",
       "\n",
       "    .dataframe tbody tr th {\n",
       "        vertical-align: top;\n",
       "    }\n",
       "\n",
       "    .dataframe thead th {\n",
       "        text-align: right;\n",
       "    }\n",
       "</style>\n",
       "<table border=\"1\" class=\"dataframe\">\n",
       "  <thead>\n",
       "    <tr style=\"text-align: right;\">\n",
       "      <th></th>\n",
       "      <th>Review</th>\n",
       "      <th>Rating</th>\n",
       "      <th>sentiment_score</th>\n",
       "    </tr>\n",
       "  </thead>\n",
       "  <tbody>\n",
       "    <tr>\n",
       "      <th>0</th>\n",
       "      <td>nice hotel expensive parking got good deal sta...</td>\n",
       "      <td>4</td>\n",
       "      <td>0.208744</td>\n",
       "    </tr>\n",
       "    <tr>\n",
       "      <th>1</th>\n",
       "      <td>ok nothing special charge diamond member hilto...</td>\n",
       "      <td>2</td>\n",
       "      <td>0.214923</td>\n",
       "    </tr>\n",
       "    <tr>\n",
       "      <th>2</th>\n",
       "      <td>nice rooms not 4* experience hotel monaco seat...</td>\n",
       "      <td>3</td>\n",
       "      <td>0.294420</td>\n",
       "    </tr>\n",
       "    <tr>\n",
       "      <th>3</th>\n",
       "      <td>unique, great stay, wonderful time hotel monac...</td>\n",
       "      <td>5</td>\n",
       "      <td>0.504825</td>\n",
       "    </tr>\n",
       "    <tr>\n",
       "      <th>4</th>\n",
       "      <td>great stay great stay, went seahawk game aweso...</td>\n",
       "      <td>5</td>\n",
       "      <td>0.384615</td>\n",
       "    </tr>\n",
       "  </tbody>\n",
       "</table>\n",
       "</div>"
      ],
      "text/plain": [
       "                                              Review  Rating  sentiment_score\n",
       "0  nice hotel expensive parking got good deal sta...       4         0.208744\n",
       "1  ok nothing special charge diamond member hilto...       2         0.214923\n",
       "2  nice rooms not 4* experience hotel monaco seat...       3         0.294420\n",
       "3  unique, great stay, wonderful time hotel monac...       5         0.504825\n",
       "4  great stay great stay, went seahawk game aweso...       5         0.384615"
      ]
     },
     "execution_count": 21,
     "metadata": {},
     "output_type": "execute_result"
    }
   ],
   "source": [
    "trip.head()"
   ]
  },
  {
   "cell_type": "code",
   "execution_count": 22,
   "id": "a7238525-8843-495b-9a1f-45f6959e69ed",
   "metadata": {},
   "outputs": [
    {
     "data": {
      "text/plain": [
       "count    20491.000000\n",
       "mean         0.274278\n",
       "std          0.181452\n",
       "min         -1.000000\n",
       "25%          0.177426\n",
       "50%          0.280371\n",
       "75%          0.384903\n",
       "max          1.000000\n",
       "Name: sentiment_score, dtype: float64"
      ]
     },
     "execution_count": 22,
     "metadata": {},
     "output_type": "execute_result"
    }
   ],
   "source": [
    "trip['sentiment_score'].describe()"
   ]
  },
  {
   "cell_type": "code",
   "execution_count": 23,
   "id": "d66f7ba1-b8b0-44b0-87a8-524f3c71b18f",
   "metadata": {},
   "outputs": [
    {
     "data": {
      "text/plain": [
       "(1356, 3)"
      ]
     },
     "execution_count": 23,
     "metadata": {},
     "output_type": "execute_result"
    }
   ],
   "source": [
    "trip[trip['sentiment_score']<0].shape"
   ]
  },
  {
   "cell_type": "code",
   "execution_count": 24,
   "id": "feb75cfb-836d-404d-828c-b00444719b16",
   "metadata": {},
   "outputs": [
    {
     "data": {
      "text/plain": [
       "(19112, 3)"
      ]
     },
     "execution_count": 24,
     "metadata": {},
     "output_type": "execute_result"
    }
   ],
   "source": [
    "trip[trip['sentiment_score']>0].shape"
   ]
  },
  {
   "cell_type": "code",
   "execution_count": 25,
   "id": "747660a0-3e4e-4870-829f-2b2443ac354f",
   "metadata": {},
   "outputs": [
    {
     "data": {
      "text/plain": [
       "(23, 3)"
      ]
     },
     "execution_count": 25,
     "metadata": {},
     "output_type": "execute_result"
    }
   ],
   "source": [
    "trip[trip['sentiment_score']==0].shape"
   ]
  },
  {
   "cell_type": "code",
   "execution_count": 26,
   "id": "84da984f-bb28-47c7-9fea-d788a7a84cb5",
   "metadata": {},
   "outputs": [],
   "source": [
    "import nltk"
   ]
  },
  {
   "cell_type": "code",
   "execution_count": 27,
   "id": "f9a6f265-a51c-4943-9bf3-7fe822e39f01",
   "metadata": {},
   "outputs": [],
   "source": [
    "from nltk.sentiment import SentimentIntensityAnalyzer"
   ]
  },
  {
   "cell_type": "code",
   "execution_count": 28,
   "id": "98451c19-7ce3-4ec2-9066-d76d51649672",
   "metadata": {},
   "outputs": [
    {
     "name": "stderr",
     "output_type": "stream",
     "text": [
      "[nltk_data] Downloading package vader_lexicon to\n",
      "[nltk_data]     C:\\Users\\ADMIN\\AppData\\Roaming\\nltk_data...\n",
      "[nltk_data]   Package vader_lexicon is already up-to-date!\n"
     ]
    },
    {
     "data": {
      "text/plain": [
       "True"
      ]
     },
     "execution_count": 28,
     "metadata": {},
     "output_type": "execute_result"
    }
   ],
   "source": [
    "nltk.download('vader_lexicon')"
   ]
  },
  {
   "cell_type": "code",
   "execution_count": 29,
   "id": "5552878e-9668-4fc2-b729-3a3822c4c21f",
   "metadata": {},
   "outputs": [],
   "source": [
    "sent = SentimentIntensityAnalyzer()"
   ]
  },
  {
   "cell_type": "code",
   "execution_count": 30,
   "id": "aa2ae742-4b93-4d14-a9dc-fe412ee171b7",
   "metadata": {},
   "outputs": [
    {
     "data": {
      "text/plain": [
       "{'neg': 0.0, 'neu': 0.508, 'pos': 0.492, 'compound': 0.4404}"
      ]
     },
     "execution_count": 30,
     "metadata": {},
     "output_type": "execute_result"
    }
   ],
   "source": [
    "sent.polarity_scores('cough syrup is good')"
   ]
  },
  {
   "cell_type": "code",
   "execution_count": null,
   "id": "dfbf8466-4e71-4198-af9c-9a0d0e532aca",
   "metadata": {},
   "outputs": [],
   "source": []
  }
 ],
 "metadata": {
  "kernelspec": {
   "display_name": "Python 3 (ipykernel)",
   "language": "python",
   "name": "python3"
  },
  "language_info": {
   "codemirror_mode": {
    "name": "ipython",
    "version": 3
   },
   "file_extension": ".py",
   "mimetype": "text/x-python",
   "name": "python",
   "nbconvert_exporter": "python",
   "pygments_lexer": "ipython3",
   "version": "3.11.7"
  }
 },
 "nbformat": 4,
 "nbformat_minor": 5
}
